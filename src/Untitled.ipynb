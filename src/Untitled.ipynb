{
 "cells": [
  {
   "cell_type": "code",
   "execution_count": 1,
   "id": "133abaec-7d6b-4e20-8484-f216f5c45d7b",
   "metadata": {
    "tags": []
   },
   "outputs": [],
   "source": [
    "import pandas as pd"
   ]
  },
  {
   "cell_type": "code",
   "execution_count": 3,
   "id": "5bf4d13c-28a5-4f72-a693-2016ebf70c6c",
   "metadata": {
    "tags": []
   },
   "outputs": [],
   "source": [
    "train = pd.read_parquet('../data/train_landmark_files/16069/100015657.parquet')"
   ]
  },
  {
   "cell_type": "code",
   "execution_count": 8,
   "id": "5afd6c0c-a350-4744-9909-13dcded62f04",
   "metadata": {
    "tags": []
   },
   "outputs": [],
   "source": [
    "types = list(train.type)"
   ]
  },
  {
   "cell_type": "code",
   "execution_count": 10,
   "id": "76656a6e-8d51-46b0-8e22-acd59fec9044",
   "metadata": {
    "tags": []
   },
   "outputs": [
    {
     "name": "stdout",
     "output_type": "stream",
     "text": [
      "pose 489\n",
      "left_hand 468\n",
      "face 0\n",
      "right_hand 522\n"
     ]
    }
   ],
   "source": [
    "for type in set(types):\n",
    "    idx = types.index(type)\n",
    "    print(type, idx)"
   ]
  },
  {
   "cell_type": "code",
   "execution_count": null,
   "id": "f01f31f0-32d2-4fd1-b5b9-52afd0dc5862",
   "metadata": {},
   "outputs": [],
   "source": []
  }
 ],
 "metadata": {
  "kernelspec": {
   "display_name": "Python 3 (ipykernel)",
   "language": "python",
   "name": "python3"
  },
  "language_info": {
   "codemirror_mode": {
    "name": "ipython",
    "version": 3
   },
   "file_extension": ".py",
   "mimetype": "text/x-python",
   "name": "python",
   "nbconvert_exporter": "python",
   "pygments_lexer": "ipython3",
   "version": "3.9.16"
  }
 },
 "nbformat": 4,
 "nbformat_minor": 5
}
