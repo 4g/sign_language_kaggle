{
 "cells": [
  {
   "cell_type": "code",
   "execution_count": 1,
   "id": "133abaec-7d6b-4e20-8484-f216f5c45d7b",
   "metadata": {
    "tags": []
   },
   "outputs": [],
   "source": [
    "import pandas as pd"
   ]
  },
  {
   "cell_type": "code",
   "execution_count": 3,
   "id": "5bf4d13c-28a5-4f72-a693-2016ebf70c6c",
   "metadata": {
    "tags": []
   },
   "outputs": [],
   "source": [
    "train = pd.read_parquet('../data/train_landmark_files/16069/100015657.parquet')"
   ]
  },
  {
   "cell_type": "code",
   "execution_count": 8,
   "id": "5afd6c0c-a350-4744-9909-13dcded62f04",
   "metadata": {
    "tags": []
   },
   "outputs": [],
   "source": [
    "types = list(train.type)"
   ]
  },
  {
   "cell_type": "code",
   "execution_count": 10,
   "id": "76656a6e-8d51-46b0-8e22-acd59fec9044",
   "metadata": {
    "tags": []
   },
   "outputs": [
    {
     "name": "stdout",
     "output_type": "stream",
     "text": [
      "pose 489\n",
      "left_hand 468\n",
      "face 0\n",
      "right_hand 522\n"
     ]
    }
   ],
   "source": [
    "for type in set(types):\n",
    "    idx = types.index(type)\n",
    "    print(type, idx)"
   ]
  },
  {
   "cell_type": "code",
   "execution_count": 1,
   "id": "f01f31f0-32d2-4fd1-b5b9-52afd0dc5862",
   "metadata": {},
   "outputs": [],
   "source": [
    "import numpy as np"
   ]
  },
  {
   "cell_type": "code",
   "execution_count": 6,
   "id": "83609db3-ab9d-4119-a2e2-45934571474f",
   "metadata": {
    "tags": []
   },
   "outputs": [],
   "source": [
    "x = np.zeros((4,3,2), dtype=np.float32)"
   ]
  },
  {
   "cell_type": "code",
   "execution_count": 9,
   "id": "ca909c55-4b0e-4faa-ad4e-19cbfec8c2f1",
   "metadata": {
    "tags": []
   },
   "outputs": [],
   "source": [
    "for i in range(4):\n",
    "    x[i,0,:] = 1+i\n"
   ]
  },
  {
   "cell_type": "code",
   "execution_count": 18,
   "id": "82fbb3e7-39e5-43f7-ae1b-109845ec9778",
   "metadata": {
    "tags": []
   },
   "outputs": [],
   "source": [
    "for i in range(4):\n",
    "    x[i] = x[i] - x[i,0,:]"
   ]
  },
  {
   "cell_type": "code",
   "execution_count": 20,
   "id": "d4b0a44f-785e-4ba8-8cbb-6cf457836d1e",
   "metadata": {
    "tags": []
   },
   "outputs": [
    {
     "data": {
      "text/plain": [
       "array([[[ 0.5,  0.5],\n",
       "        [-0.5, -0.5],\n",
       "        [-0.5, -0.5]],\n",
       "\n",
       "       [[ 0.5,  0.5],\n",
       "        [-1.5, -1.5],\n",
       "        [-1.5, -1.5]],\n",
       "\n",
       "       [[ 0.5,  0.5],\n",
       "        [-2.5, -2.5],\n",
       "        [-2.5, -2.5]],\n",
       "\n",
       "       [[ 0.5,  0.5],\n",
       "        [-3.5, -3.5],\n",
       "        [-3.5, -3.5]]], dtype=float32)"
      ]
     },
     "execution_count": 20,
     "metadata": {},
     "output_type": "execute_result"
    }
   ],
   "source": [
    "x + 0.5"
   ]
  },
  {
   "cell_type": "code",
   "execution_count": 1,
   "id": "7df628fc-a7cc-4ad0-8f06-a1d9dfb5f11b",
   "metadata": {},
   "outputs": [
    {
     "name": "stderr",
     "output_type": "stream",
     "text": [
      "2023-04-18 00:12:15.078776: I tensorflow/core/util/port.cc:110] oneDNN custom operations are on. You may see slightly different numerical results due to floating-point round-off errors from different computation orders. To turn them off, set the environment variable `TF_ENABLE_ONEDNN_OPTS=0`.\n",
      "2023-04-18 00:12:15.109472: I tensorflow/core/platform/cpu_feature_guard.cc:182] This TensorFlow binary is optimized to use available CPU instructions in performance-critical operations.\n",
      "To enable the following instructions: AVX2 AVX_VNNI FMA, in other operations, rebuild TensorFlow with the appropriate compiler flags.\n",
      "2023-04-18 00:12:15.554809: W tensorflow/compiler/tf2tensorrt/utils/py_utils.cc:38] TF-TRT Warning: Could not find TensorRT\n",
      "/home/apurva/miniconda3/envs/tf2/lib/python3.9/site-packages/requests/__init__.py:109: RequestsDependencyWarning: urllib3 (1.26.15) or chardet (None)/charset_normalizer (3.1.0) doesn't match a supported version!\n",
      "  warnings.warn(\n"
     ]
    }
   ],
   "source": [
    "import mediapipe as mp\n",
    "import numpy as np\n",
    "\n",
    "mp_drawing = mp.solutions.drawing_utils\n",
    "mp_drawing_styles = mp.solutions.drawing_styles\n",
    "mp_holistic = mp.solutions.holistic\n"
   ]
  },
  {
   "cell_type": "code",
   "execution_count": 4,
   "id": "c163dd74-581d-4047-98e2-8fcc8bb706aa",
   "metadata": {
    "tags": []
   },
   "outputs": [
    {
     "name": "stdout",
     "output_type": "stream",
     "text": [
      "0 PoseLandmark.NOSE\n",
      "1 PoseLandmark.LEFT_EYE_INNER\n",
      "2 PoseLandmark.LEFT_EYE\n",
      "3 PoseLandmark.LEFT_EYE_OUTER\n",
      "4 PoseLandmark.RIGHT_EYE_INNER\n",
      "5 PoseLandmark.RIGHT_EYE\n",
      "6 PoseLandmark.RIGHT_EYE_OUTER\n",
      "7 PoseLandmark.LEFT_EAR\n",
      "8 PoseLandmark.RIGHT_EAR\n",
      "9 PoseLandmark.MOUTH_LEFT\n",
      "10 PoseLandmark.MOUTH_RIGHT\n",
      "11 PoseLandmark.LEFT_SHOULDER\n",
      "12 PoseLandmark.RIGHT_SHOULDER\n",
      "13 PoseLandmark.LEFT_ELBOW\n",
      "14 PoseLandmark.RIGHT_ELBOW\n",
      "15 PoseLandmark.LEFT_WRIST\n",
      "16 PoseLandmark.RIGHT_WRIST\n",
      "17 PoseLandmark.LEFT_PINKY\n",
      "18 PoseLandmark.RIGHT_PINKY\n",
      "19 PoseLandmark.LEFT_INDEX\n",
      "20 PoseLandmark.RIGHT_INDEX\n",
      "21 PoseLandmark.LEFT_THUMB\n",
      "22 PoseLandmark.RIGHT_THUMB\n",
      "23 PoseLandmark.LEFT_HIP\n",
      "24 PoseLandmark.RIGHT_HIP\n",
      "25 PoseLandmark.LEFT_KNEE\n",
      "26 PoseLandmark.RIGHT_KNEE\n",
      "27 PoseLandmark.LEFT_ANKLE\n",
      "28 PoseLandmark.RIGHT_ANKLE\n",
      "29 PoseLandmark.LEFT_HEEL\n",
      "30 PoseLandmark.RIGHT_HEEL\n",
      "31 PoseLandmark.LEFT_FOOT_INDEX\n",
      "32 PoseLandmark.RIGHT_FOOT_INDEX\n"
     ]
    }
   ],
   "source": [
    "for i in range(33):\n",
    "    x = mp_holistic.PoseLandmark(i)\n",
    "    print(i, x)"
   ]
  },
  {
   "cell_type": "code",
   "execution_count": null,
   "id": "9d04026a-613a-499a-8dd2-916d14760044",
   "metadata": {},
   "outputs": [],
   "source": []
  }
 ],
 "metadata": {
  "kernelspec": {
   "display_name": "Python 3 (ipykernel)",
   "language": "python",
   "name": "python3"
  },
  "language_info": {
   "codemirror_mode": {
    "name": "ipython",
    "version": 3
   },
   "file_extension": ".py",
   "mimetype": "text/x-python",
   "name": "python",
   "nbconvert_exporter": "python",
   "pygments_lexer": "ipython3",
   "version": "3.9.16"
  }
 },
 "nbformat": 4,
 "nbformat_minor": 5
}
