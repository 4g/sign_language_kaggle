{
 "cells": [
  {
   "cell_type": "code",
   "execution_count": 1,
   "id": "133abaec-7d6b-4e20-8484-f216f5c45d7b",
   "metadata": {
    "tags": []
   },
   "outputs": [],
   "source": [
    "import pandas as pd"
   ]
  },
  {
   "cell_type": "code",
   "execution_count": 3,
   "id": "5bf4d13c-28a5-4f72-a693-2016ebf70c6c",
   "metadata": {
    "tags": []
   },
   "outputs": [],
   "source": [
    "train = pd.read_parquet('../data/train_landmark_files/16069/100015657.parquet')"
   ]
  },
  {
   "cell_type": "code",
   "execution_count": 8,
   "id": "5afd6c0c-a350-4744-9909-13dcded62f04",
   "metadata": {
    "tags": []
   },
   "outputs": [],
   "source": [
    "types = list(train.type)"
   ]
  },
  {
   "cell_type": "code",
   "execution_count": 10,
   "id": "76656a6e-8d51-46b0-8e22-acd59fec9044",
   "metadata": {
    "tags": []
   },
   "outputs": [
    {
     "name": "stdout",
     "output_type": "stream",
     "text": [
      "pose 489\n",
      "left_hand 468\n",
      "face 0\n",
      "right_hand 522\n"
     ]
    }
   ],
   "source": [
    "for type in set(types):\n",
    "    idx = types.index(type)\n",
    "    print(type, idx)"
   ]
  },
  {
   "cell_type": "code",
   "execution_count": 1,
   "id": "f01f31f0-32d2-4fd1-b5b9-52afd0dc5862",
   "metadata": {},
   "outputs": [],
   "source": [
    "import numpy as np"
   ]
  },
  {
   "cell_type": "code",
   "execution_count": 6,
   "id": "83609db3-ab9d-4119-a2e2-45934571474f",
   "metadata": {
    "tags": []
   },
   "outputs": [],
   "source": [
    "x = np.zeros((4,3,2), dtype=np.float32)"
   ]
  },
  {
   "cell_type": "code",
   "execution_count": 9,
   "id": "ca909c55-4b0e-4faa-ad4e-19cbfec8c2f1",
   "metadata": {
    "tags": []
   },
   "outputs": [],
   "source": [
    "for i in range(4):\n",
    "    x[i,0,:] = 1+i\n"
   ]
  },
  {
   "cell_type": "code",
   "execution_count": 18,
   "id": "82fbb3e7-39e5-43f7-ae1b-109845ec9778",
   "metadata": {
    "tags": []
   },
   "outputs": [],
   "source": [
    "for i in range(4):\n",
    "    x[i] = x[i] - x[i,0,:]"
   ]
  },
  {
   "cell_type": "code",
   "execution_count": 20,
   "id": "d4b0a44f-785e-4ba8-8cbb-6cf457836d1e",
   "metadata": {
    "tags": []
   },
   "outputs": [
    {
     "data": {
      "text/plain": [
       "array([[[ 0.5,  0.5],\n",
       "        [-0.5, -0.5],\n",
       "        [-0.5, -0.5]],\n",
       "\n",
       "       [[ 0.5,  0.5],\n",
       "        [-1.5, -1.5],\n",
       "        [-1.5, -1.5]],\n",
       "\n",
       "       [[ 0.5,  0.5],\n",
       "        [-2.5, -2.5],\n",
       "        [-2.5, -2.5]],\n",
       "\n",
       "       [[ 0.5,  0.5],\n",
       "        [-3.5, -3.5],\n",
       "        [-3.5, -3.5]]], dtype=float32)"
      ]
     },
     "execution_count": 20,
     "metadata": {},
     "output_type": "execute_result"
    }
   ],
   "source": [
    "x + 0.5"
   ]
  },
  {
   "cell_type": "code",
   "execution_count": 1,
   "id": "7df628fc-a7cc-4ad0-8f06-a1d9dfb5f11b",
   "metadata": {},
   "outputs": [
    {
     "name": "stderr",
     "output_type": "stream",
     "text": [
      "2023-04-30 21:22:05.624042: I tensorflow/core/util/port.cc:110] oneDNN custom operations are on. You may see slightly different numerical results due to floating-point round-off errors from different computation orders. To turn them off, set the environment variable `TF_ENABLE_ONEDNN_OPTS=0`.\n",
      "2023-04-30 21:22:05.648106: I tensorflow/core/platform/cpu_feature_guard.cc:182] This TensorFlow binary is optimized to use available CPU instructions in performance-critical operations.\n",
      "To enable the following instructions: AVX2 AVX_VNNI FMA, in other operations, rebuild TensorFlow with the appropriate compiler flags.\n",
      "2023-04-30 21:22:05.995882: W tensorflow/compiler/tf2tensorrt/utils/py_utils.cc:38] TF-TRT Warning: Could not find TensorRT\n",
      "/home/apurva/miniconda3/envs/tf2/lib/python3.9/site-packages/requests/__init__.py:109: RequestsDependencyWarning: urllib3 (1.26.15) or chardet (None)/charset_normalizer (3.1.0) doesn't match a supported version!\n",
      "  warnings.warn(\n"
     ]
    }
   ],
   "source": [
    "import mediapipe as mp\n",
    "import numpy as np\n",
    "\n",
    "mp_drawing = mp.solutions.drawing_utils\n",
    "mp_drawing_styles = mp.solutions.drawing_styles\n",
    "mp_holistic = mp.solutions.holistic\n"
   ]
  },
  {
   "cell_type": "code",
   "execution_count": 14,
   "id": "c163dd74-581d-4047-98e2-8fcc8bb706aa",
   "metadata": {
    "tags": []
   },
   "outputs": [],
   "source": [
    "lefts = []\n",
    "rights = []\n",
    "for i in range(33):\n",
    "    x = mp_holistic.PoseLandmark(i)\n",
    "    # print(i, x)\n",
    "    if 'left' in str(x).lower():\n",
    "        lefts.append((i,x))\n",
    "    if 'right' in str(x).lower():\n",
    "        rights.append((i,x))"
   ]
  },
  {
   "cell_type": "code",
   "execution_count": 15,
   "id": "9d04026a-613a-499a-8dd2-916d14760044",
   "metadata": {},
   "outputs": [
    {
     "name": "stdout",
     "output_type": "stream",
     "text": [
      "(1, <PoseLandmark.LEFT_EYE_INNER: 1>) (4, <PoseLandmark.RIGHT_EYE_INNER: 4>)\n",
      "(2, <PoseLandmark.LEFT_EYE: 2>) (5, <PoseLandmark.RIGHT_EYE: 5>)\n",
      "(3, <PoseLandmark.LEFT_EYE_OUTER: 3>) (6, <PoseLandmark.RIGHT_EYE_OUTER: 6>)\n",
      "(7, <PoseLandmark.LEFT_EAR: 7>) (8, <PoseLandmark.RIGHT_EAR: 8>)\n",
      "(9, <PoseLandmark.MOUTH_LEFT: 9>) (10, <PoseLandmark.MOUTH_RIGHT: 10>)\n",
      "(11, <PoseLandmark.LEFT_SHOULDER: 11>) (12, <PoseLandmark.RIGHT_SHOULDER: 12>)\n",
      "(13, <PoseLandmark.LEFT_ELBOW: 13>) (14, <PoseLandmark.RIGHT_ELBOW: 14>)\n",
      "(15, <PoseLandmark.LEFT_WRIST: 15>) (16, <PoseLandmark.RIGHT_WRIST: 16>)\n",
      "(17, <PoseLandmark.LEFT_PINKY: 17>) (18, <PoseLandmark.RIGHT_PINKY: 18>)\n",
      "(19, <PoseLandmark.LEFT_INDEX: 19>) (20, <PoseLandmark.RIGHT_INDEX: 20>)\n",
      "(21, <PoseLandmark.LEFT_THUMB: 21>) (22, <PoseLandmark.RIGHT_THUMB: 22>)\n",
      "(23, <PoseLandmark.LEFT_HIP: 23>) (24, <PoseLandmark.RIGHT_HIP: 24>)\n",
      "(25, <PoseLandmark.LEFT_KNEE: 25>) (26, <PoseLandmark.RIGHT_KNEE: 26>)\n",
      "(27, <PoseLandmark.LEFT_ANKLE: 27>) (28, <PoseLandmark.RIGHT_ANKLE: 28>)\n",
      "(29, <PoseLandmark.LEFT_HEEL: 29>) (30, <PoseLandmark.RIGHT_HEEL: 30>)\n",
      "(31, <PoseLandmark.LEFT_FOOT_INDEX: 31>) (32, <PoseLandmark.RIGHT_FOOT_INDEX: 32>)\n"
     ]
    }
   ],
   "source": [
    "for l,r in zip(lefts, rights):\n",
    "    print(l,r)"
   ]
  },
  {
   "cell_type": "code",
   "execution_count": 16,
   "id": "4ffff80f-4955-44e3-a4ec-6d929761d2d4",
   "metadata": {
    "tags": []
   },
   "outputs": [],
   "source": [
    "lefts = [l[0] for l in lefts]\n",
    "rights = [r[0] for r in rights]"
   ]
  },
  {
   "cell_type": "code",
   "execution_count": 18,
   "id": "543bd0d1-5deb-448d-8a47-2f72c778b759",
   "metadata": {
    "tags": []
   },
   "outputs": [
    {
     "data": {
      "text/plain": [
       "([1, 2, 3, 7, 9, 11, 13, 15, 17, 19, 21, 23, 25, 27, 29, 31],\n",
       " [4, 5, 6, 8, 10, 12, 14, 16, 18, 20, 22, 24, 26, 28, 30, 32])"
      ]
     },
     "execution_count": 18,
     "metadata": {},
     "output_type": "execute_result"
    }
   ],
   "source": [
    "lefts, rights"
   ]
  },
  {
   "cell_type": "code",
   "execution_count": null,
   "id": "70932354-04c7-4bbb-8c87-1634ddad25e4",
   "metadata": {},
   "outputs": [],
   "source": []
  }
 ],
 "metadata": {
  "kernelspec": {
   "display_name": "Python 3 (ipykernel)",
   "language": "python",
   "name": "python3"
  },
  "language_info": {
   "codemirror_mode": {
    "name": "ipython",
    "version": 3
   },
   "file_extension": ".py",
   "mimetype": "text/x-python",
   "name": "python",
   "nbconvert_exporter": "python",
   "pygments_lexer": "ipython3",
   "version": "3.9.16"
  }
 },
 "nbformat": 4,
 "nbformat_minor": 5
}
