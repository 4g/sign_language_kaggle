{
 "cells": [
  {
   "cell_type": "code",
   "execution_count": 1,
   "id": "133abaec-7d6b-4e20-8484-f216f5c45d7b",
   "metadata": {
    "tags": []
   },
   "outputs": [],
   "source": [
    "import pandas as pd"
   ]
  },
  {
   "cell_type": "code",
   "execution_count": 3,
   "id": "5bf4d13c-28a5-4f72-a693-2016ebf70c6c",
   "metadata": {
    "tags": []
   },
   "outputs": [],
   "source": [
    "train = pd.read_parquet('../data/train_landmark_files/16069/100015657.parquet')"
   ]
  },
  {
   "cell_type": "code",
   "execution_count": 8,
   "id": "5afd6c0c-a350-4744-9909-13dcded62f04",
   "metadata": {
    "tags": []
   },
   "outputs": [],
   "source": [
    "types = list(train.type)"
   ]
  },
  {
   "cell_type": "code",
   "execution_count": 10,
   "id": "76656a6e-8d51-46b0-8e22-acd59fec9044",
   "metadata": {
    "tags": []
   },
   "outputs": [
    {
     "name": "stdout",
     "output_type": "stream",
     "text": [
      "pose 489\n",
      "left_hand 468\n",
      "face 0\n",
      "right_hand 522\n"
     ]
    }
   ],
   "source": [
    "for type in set(types):\n",
    "    idx = types.index(type)\n",
    "    print(type, idx)"
   ]
  },
  {
   "cell_type": "code",
   "execution_count": 1,
   "id": "f01f31f0-32d2-4fd1-b5b9-52afd0dc5862",
   "metadata": {},
   "outputs": [],
   "source": [
    "import numpy as np"
   ]
  },
  {
   "cell_type": "code",
   "execution_count": 6,
   "id": "83609db3-ab9d-4119-a2e2-45934571474f",
   "metadata": {
    "tags": []
   },
   "outputs": [],
   "source": [
    "x = np.zeros((4,3,2), dtype=np.float32)"
   ]
  },
  {
   "cell_type": "code",
   "execution_count": 9,
   "id": "ca909c55-4b0e-4faa-ad4e-19cbfec8c2f1",
   "metadata": {
    "tags": []
   },
   "outputs": [],
   "source": [
    "for i in range(4):\n",
    "    x[i,0,:] = 1+i\n"
   ]
  },
  {
   "cell_type": "code",
   "execution_count": 18,
   "id": "82fbb3e7-39e5-43f7-ae1b-109845ec9778",
   "metadata": {
    "tags": []
   },
   "outputs": [],
   "source": [
    "for i in range(4):\n",
    "    x[i] = x[i] - x[i,0,:]"
   ]
  },
  {
   "cell_type": "code",
   "execution_count": 20,
   "id": "d4b0a44f-785e-4ba8-8cbb-6cf457836d1e",
   "metadata": {
    "tags": []
   },
   "outputs": [
    {
     "data": {
      "text/plain": [
       "array([[[ 0.5,  0.5],\n",
       "        [-0.5, -0.5],\n",
       "        [-0.5, -0.5]],\n",
       "\n",
       "       [[ 0.5,  0.5],\n",
       "        [-1.5, -1.5],\n",
       "        [-1.5, -1.5]],\n",
       "\n",
       "       [[ 0.5,  0.5],\n",
       "        [-2.5, -2.5],\n",
       "        [-2.5, -2.5]],\n",
       "\n",
       "       [[ 0.5,  0.5],\n",
       "        [-3.5, -3.5],\n",
       "        [-3.5, -3.5]]], dtype=float32)"
      ]
     },
     "execution_count": 20,
     "metadata": {},
     "output_type": "execute_result"
    }
   ],
   "source": [
    "x + 0.5"
   ]
  },
  {
   "cell_type": "code",
   "execution_count": null,
   "id": "7df628fc-a7cc-4ad0-8f06-a1d9dfb5f11b",
   "metadata": {},
   "outputs": [],
   "source": []
  }
 ],
 "metadata": {
  "kernelspec": {
   "display_name": "Python 3 (ipykernel)",
   "language": "python",
   "name": "python3"
  },
  "language_info": {
   "codemirror_mode": {
    "name": "ipython",
    "version": 3
   },
   "file_extension": ".py",
   "mimetype": "text/x-python",
   "name": "python",
   "nbconvert_exporter": "python",
   "pygments_lexer": "ipython3",
   "version": "3.9.16"
  }
 },
 "nbformat": 4,
 "nbformat_minor": 5
}
